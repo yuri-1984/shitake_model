{
  "nbformat": 4,
  "nbformat_minor": 0,
  "metadata": {
    "colab": {
      "name": "テキスト分類モデル.ipynb",
      "provenance": [],
      "collapsed_sections": [],
      "mount_file_id": "1ufRgRZt-rfhshH3VHJMYRFo0n96sIrgm",
      "authorship_tag": "ABX9TyNwossouDI/NTCVQXLA2uif"
    },
    "kernelspec": {
      "name": "python3",
      "display_name": "Python 3"
    },
    "language_info": {
      "name": "python"
    }
  },
  "cells": [
    {
      "cell_type": "markdown",
      "source": [
        "# テキスト分類モデルを構築\n",
        "- 箇条書きでデータの分析の際に思ったことを簡素に記載"
      ],
      "metadata": {
        "id": "R39ELxIgIB6e"
      }
    },
    {
      "cell_type": "markdown",
      "source": [
        "# 参考サイト\n",
        "## データ取得元\n",
        "\n",
        "-[しいたけ占い - 星座・今週の運勢 - VOGUE GIRL](https://voguegirl.jp/horoscope/shiitake/)"
      ],
      "metadata": {
        "id": "k_GSmFtAJeyE"
      }
    },
    {
      "cell_type": "markdown",
      "source": [
        ""
      ],
      "metadata": {
        "id": "sJeMli8ZH-ox"
      }
    },
    {
      "cell_type": "markdown",
      "source": [
        "## 環境構築\n",
        "  - google drive 内のデータにアクセスする場合は、google drive をマウントする必要がある"
      ],
      "metadata": {
        "id": "h7Vit2ZbHNtq"
      }
    },
    {
      "cell_type": "code",
      "source": [
        "# Google Driveのマウント\n",
        "from google.colab import drive\n",
        "drive.mount('/content/drive')"
      ],
      "metadata": {
        "colab": {
          "base_uri": "https://localhost:8080/"
        },
        "id": "mwThon9GHgaY",
        "outputId": "98d20815-1bc6-478c-bd39-fdd947ecb608"
      },
      "execution_count": null,
      "outputs": [
        {
          "output_type": "stream",
          "name": "stdout",
          "text": [
            "Drive already mounted at /content/drive; to attempt to forcibly remount, call drive.mount(\"/content/drive\", force_remount=True).\n"
          ]
        }
      ]
    },
    {
      "cell_type": "markdown",
      "source": [
        "## データ準備\n",
        "\n",
        "### 左揃え\n",
        "|目的変数|説明変数|\n",
        "|:-|:-|\n",
        "|12星座|診断結果のテキスト|\n",
        "\n",
        "### 中央揃え\n",
        "|目的変数|説明変数|\n",
        "|:-:|:-:|\n",
        "|12星座|診断結果のテキスト|\n",
        "\n",
        "### 右揃え\n",
        "|目的変数|説明変数|\n",
        "|-:|-:|\n",
        "|12星座|診断結果のテキスト|"
      ],
      "metadata": {
        "id": "4f3SuexLHgr6"
      }
    },
    {
      "cell_type": "code",
      "source": [
        "import pandas as pd \n",
        "df = pd.read_csv('/content/drive/MyDrive/pj_horoscopenlp/dataset/shiitake_textdata.csv')\n",
        "df.head()"
      ],
      "metadata": {
        "id": "xGvVgJaaJNNw",
        "colab": {
          "base_uri": "https://localhost:8080/",
          "height": 206
        },
        "outputId": "8c63b5a5-a0b0-4757-d2d1-3a0a4ba3cb08"
      },
      "execution_count": 4,
      "outputs": [
        {
          "output_type": "execute_result",
          "data": {
            "text/html": [
              "\n",
              "  <div id=\"df-61527daf-c246-4ee5-8443-98e690b7b042\">\n",
              "    <div class=\"colab-df-container\">\n",
              "      <div>\n",
              "<style scoped>\n",
              "    .dataframe tbody tr th:only-of-type {\n",
              "        vertical-align: middle;\n",
              "    }\n",
              "\n",
              "    .dataframe tbody tr th {\n",
              "        vertical-align: top;\n",
              "    }\n",
              "\n",
              "    .dataframe thead th {\n",
              "        text-align: right;\n",
              "    }\n",
              "</style>\n",
              "<table border=\"1\" class=\"dataframe\">\n",
              "  <thead>\n",
              "    <tr style=\"text-align: right;\">\n",
              "      <th></th>\n",
              "      <th>text</th>\n",
              "      <th>label</th>\n",
              "    </tr>\n",
              "  </thead>\n",
              "  <tbody>\n",
              "    <tr>\n",
              "      <th>0</th>\n",
              "      <td>「さあ、祭りだ！」のゴールドが出ています。今週のあなたに「おとなしさ」はいりません。いつも通...</td>\n",
              "      <td>aries</td>\n",
              "    </tr>\n",
              "    <tr>\n",
              "      <th>1</th>\n",
              "      <td>「文学的な時間」の水色が出ています。今週、ほんの少しの時間でも良いので、できる限り「ひとりの...</td>\n",
              "      <td>taurus</td>\n",
              "    </tr>\n",
              "    <tr>\n",
              "      <th>2</th>\n",
              "      <td>「手作りのお祝い」を表す茶色が出ています。今週は2018年が終わり、いよいよ2019年が始ま...</td>\n",
              "      <td>gemini</td>\n",
              "    </tr>\n",
              "    <tr>\n",
              "      <th>3</th>\n",
              "      <td>「きちんと新年を迎える」の赤が出ています。この時期のあなたは「普段自分が使っているエネルギー...</td>\n",
              "      <td>cancer</td>\n",
              "    </tr>\n",
              "    <tr>\n",
              "      <th>4</th>\n",
              "      <td>「ちゃんと温かいお茶を飲むこと」の黄色が出ています。獅子座って自分で「こういうことをやってい...</td>\n",
              "      <td>leo</td>\n",
              "    </tr>\n",
              "  </tbody>\n",
              "</table>\n",
              "</div>\n",
              "      <button class=\"colab-df-convert\" onclick=\"convertToInteractive('df-61527daf-c246-4ee5-8443-98e690b7b042')\"\n",
              "              title=\"Convert this dataframe to an interactive table.\"\n",
              "              style=\"display:none;\">\n",
              "        \n",
              "  <svg xmlns=\"http://www.w3.org/2000/svg\" height=\"24px\"viewBox=\"0 0 24 24\"\n",
              "       width=\"24px\">\n",
              "    <path d=\"M0 0h24v24H0V0z\" fill=\"none\"/>\n",
              "    <path d=\"M18.56 5.44l.94 2.06.94-2.06 2.06-.94-2.06-.94-.94-2.06-.94 2.06-2.06.94zm-11 1L8.5 8.5l.94-2.06 2.06-.94-2.06-.94L8.5 2.5l-.94 2.06-2.06.94zm10 10l.94 2.06.94-2.06 2.06-.94-2.06-.94-.94-2.06-.94 2.06-2.06.94z\"/><path d=\"M17.41 7.96l-1.37-1.37c-.4-.4-.92-.59-1.43-.59-.52 0-1.04.2-1.43.59L10.3 9.45l-7.72 7.72c-.78.78-.78 2.05 0 2.83L4 21.41c.39.39.9.59 1.41.59.51 0 1.02-.2 1.41-.59l7.78-7.78 2.81-2.81c.8-.78.8-2.07 0-2.86zM5.41 20L4 18.59l7.72-7.72 1.47 1.35L5.41 20z\"/>\n",
              "  </svg>\n",
              "      </button>\n",
              "      \n",
              "  <style>\n",
              "    .colab-df-container {\n",
              "      display:flex;\n",
              "      flex-wrap:wrap;\n",
              "      gap: 12px;\n",
              "    }\n",
              "\n",
              "    .colab-df-convert {\n",
              "      background-color: #E8F0FE;\n",
              "      border: none;\n",
              "      border-radius: 50%;\n",
              "      cursor: pointer;\n",
              "      display: none;\n",
              "      fill: #1967D2;\n",
              "      height: 32px;\n",
              "      padding: 0 0 0 0;\n",
              "      width: 32px;\n",
              "    }\n",
              "\n",
              "    .colab-df-convert:hover {\n",
              "      background-color: #E2EBFA;\n",
              "      box-shadow: 0px 1px 2px rgba(60, 64, 67, 0.3), 0px 1px 3px 1px rgba(60, 64, 67, 0.15);\n",
              "      fill: #174EA6;\n",
              "    }\n",
              "\n",
              "    [theme=dark] .colab-df-convert {\n",
              "      background-color: #3B4455;\n",
              "      fill: #D2E3FC;\n",
              "    }\n",
              "\n",
              "    [theme=dark] .colab-df-convert:hover {\n",
              "      background-color: #434B5C;\n",
              "      box-shadow: 0px 1px 3px 1px rgba(0, 0, 0, 0.15);\n",
              "      filter: drop-shadow(0px 1px 2px rgba(0, 0, 0, 0.3));\n",
              "      fill: #FFFFFF;\n",
              "    }\n",
              "  </style>\n",
              "\n",
              "      <script>\n",
              "        const buttonEl =\n",
              "          document.querySelector('#df-61527daf-c246-4ee5-8443-98e690b7b042 button.colab-df-convert');\n",
              "        buttonEl.style.display =\n",
              "          google.colab.kernel.accessAllowed ? 'block' : 'none';\n",
              "\n",
              "        async function convertToInteractive(key) {\n",
              "          const element = document.querySelector('#df-61527daf-c246-4ee5-8443-98e690b7b042');\n",
              "          const dataTable =\n",
              "            await google.colab.kernel.invokeFunction('convertToInteractive',\n",
              "                                                     [key], {});\n",
              "          if (!dataTable) return;\n",
              "\n",
              "          const docLinkHtml = 'Like what you see? Visit the ' +\n",
              "            '<a target=\"_blank\" href=https://colab.research.google.com/notebooks/data_table.ipynb>data table notebook</a>'\n",
              "            + ' to learn more about interactive tables.';\n",
              "          element.innerHTML = '';\n",
              "          dataTable['output_type'] = 'display_data';\n",
              "          await google.colab.output.renderOutput(dataTable, element);\n",
              "          const docLink = document.createElement('div');\n",
              "          docLink.innerHTML = docLinkHtml;\n",
              "          element.appendChild(docLink);\n",
              "        }\n",
              "      </script>\n",
              "    </div>\n",
              "  </div>\n",
              "  "
            ],
            "text/plain": [
              "                                                text   label\n",
              "0  「さあ、祭りだ！」のゴールドが出ています。今週のあなたに「おとなしさ」はいりません。いつも通...   aries\n",
              "1  「文学的な時間」の水色が出ています。今週、ほんの少しの時間でも良いので、できる限り「ひとりの...  taurus\n",
              "2  「手作りのお祝い」を表す茶色が出ています。今週は2018年が終わり、いよいよ2019年が始ま...  gemini\n",
              "3  「きちんと新年を迎える」の赤が出ています。この時期のあなたは「普段自分が使っているエネルギー...  cancer\n",
              "4  「ちゃんと温かいお茶を飲むこと」の黄色が出ています。獅子座って自分で「こういうことをやってい...     leo"
            ]
          },
          "metadata": {},
          "execution_count": 4
        }
      ]
    },
    {
      "cell_type": "markdown",
      "source": [
        "## データクレンジング\n",
        "- 機械がデータを使って学習できるようにデータを加工する作業\n",
        "- テキストデータを扱う場合：機械が適切に学習できるように人間が使用している言語を数値に変換する"
      ],
      "metadata": {
        "id": "Pud2pz12Hnwc"
      }
    },
    {
      "cell_type": "code",
      "source": [
        ""
      ],
      "metadata": {
        "id": "EluxFuPVNodP"
      },
      "execution_count": null,
      "outputs": []
    },
    {
      "cell_type": "code",
      "source": [
        ""
      ],
      "metadata": {
        "id": "F9RaAs3QHqUH"
      },
      "execution_count": null,
      "outputs": []
    },
    {
      "cell_type": "code",
      "source": [
        ""
      ],
      "metadata": {
        "id": "PlJQfaiWHfGC"
      },
      "execution_count": null,
      "outputs": []
    },
    {
      "cell_type": "markdown",
      "source": [
        "## 学習用データセット作成"
      ],
      "metadata": {
        "id": "-e2u5lxnHrHW"
      }
    },
    {
      "cell_type": "code",
      "source": [
        ""
      ],
      "metadata": {
        "id": "gzZ4Wp3iHvmv"
      },
      "execution_count": null,
      "outputs": []
    },
    {
      "cell_type": "markdown",
      "source": [
        "## 機械学習・モデリング"
      ],
      "metadata": {
        "id": "pW6XkO8MHwJg"
      }
    },
    {
      "cell_type": "code",
      "source": [
        ""
      ],
      "metadata": {
        "id": "cFCOJmBcH0VF"
      },
      "execution_count": null,
      "outputs": []
    },
    {
      "cell_type": "code",
      "source": [
        ""
      ],
      "metadata": {
        "id": "Lencj73_Ht5O"
      },
      "execution_count": null,
      "outputs": []
    },
    {
      "cell_type": "markdown",
      "source": [
        ""
      ],
      "metadata": {
        "id": "uaqdhHdKHHun"
      }
    },
    {
      "cell_type": "markdown",
      "source": [
        "## 精度検証"
      ],
      "metadata": {
        "id": "pnrUYVG1H1ix"
      }
    },
    {
      "cell_type": "code",
      "source": [
        ""
      ],
      "metadata": {
        "id": "KcarmNdsH5bJ"
      },
      "execution_count": null,
      "outputs": []
    }
  ]
}